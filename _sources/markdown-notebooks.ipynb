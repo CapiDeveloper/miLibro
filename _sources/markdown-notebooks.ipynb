{
 "cells": [
  {
   "cell_type": "markdown",
   "id": "16b79f98",
   "metadata": {},
   "source": [
    "# ¿Qué es el diseño web?\n",
    "<img src=\"https://images.pexels.com/photos/196645/pexels-photo-196645.jpeg?auto=compress&cs=tinysrgb&w=1260&h=750&dpr=1\" />\n",
    "<h2>\n",
    "    El diseño web es la actividad que consiste en:\n",
    "</h2>\n",
    "<ul>\n",
    "    <li style=\"color:#67686A;\">Planificación de páginas webs.</li>\n",
    "    <li style=\"color:#67686A;\">Diseño de páginas webs.</li>\n",
    "    <li style=\"color:#67686A;\">Mantenimiento de páginas webs.</li>\n",
    "    <li style=\"color:#67686A;\">Creación de páginas webs.</li>\n",
    "    <li style=\"color:#67686A;\">Diseño de la interfaz de las páginas webs.</li>\n",
    "    <li style=\"color:#67686A;\">Diseño del material gráfico.</li>\n",
    "    <li style=\"color:#67686A;\">Experiencia del usuario en el sitio web.</li>\n",
    "</ul>\n",
    "<p style=\"color:#67686A; font-weight:bold; text-align:justify;\">\n",
    "    El diseño web consiste en planificación, diseño e implementación de sitios web. Dentro del diseño web también se abarcan temas como el diseño gráfico, diseño de interfaz, experiencia del usuario, la navegabilidad, interactividad, usabilidad, arquitectura de la información, etc..\n",
    "</p>\n",
    "\n",
    "<div style=\"display:flex;\">\n",
    "    <div><img src=\"https://media.istockphoto.com/photos/website-designer-creative-planning-application-developer-development-picture-id1206638576?b=1&k=20&m=1206638576&s=612x612&w=0&h=wPA8RbwU-lVzESg7O9IXbxpoXClItDDsTDEpkrhXzs0=\"/></div>\n",
    "    <div><img src=\"https://media.istockphoto.com/photos/designers-drawing-website-ux-app-development-picture-id1196702694?b=1&k=20&m=1196702694&s=612x612&w=0&h=hXgW07jMeHxVl_csoP9QbNociVY5iLALDmAfZBU-JS4=\" /></div>\n",
    "    <div><img src=\"https://media.istockphoto.com/photos/ux-graphic-designer-creative-sketch-planning-application-process-picture-id1169087529?b=1&k=20&m=1169087529&s=612x612&w=0&h=PA0UMs9JiVGAuVCEYyLAKkHLWkonPC5DMyq8dvKFZEw=\" /></div>\n",
    "    <div><img src=\"https://media.istockphoto.com/photos/top-view-asian-ux-developer-and-ui-designer-brainstorming-about-app-picture-id1218511457?b=1&k=20&m=1218511457&s=612x612&w=0&h=VZ4UOZtqnu8HpM3Yj08G_GbvyukbV5OdQ-jGRn5SCzE=\" /></div>\n",
    "    \n",
    "</div>"
   ]
  }
 ],
 "metadata": {
  "jupytext": {
   "cell_metadata_filter": "-all",
   "formats": "md:myst",
   "text_representation": {
    "extension": ".md",
    "format_name": "myst",
    "format_version": 0.13,
    "jupytext_version": "1.11.5"
   }
  },
  "kernelspec": {
   "display_name": "Python 3",
   "language": "python",
   "name": "python3"
  },
  "language_info": {
   "codemirror_mode": {
    "name": "ipython",
    "version": 3
   },
   "file_extension": ".py",
   "mimetype": "text/x-python",
   "name": "python",
   "nbconvert_exporter": "python",
   "pygments_lexer": "ipython3",
   "version": "3.8.14"
  },
  "source_map": [
   14
  ]
 },
 "nbformat": 4,
 "nbformat_minor": 5
}