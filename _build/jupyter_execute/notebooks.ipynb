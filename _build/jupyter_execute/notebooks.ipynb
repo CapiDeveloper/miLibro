{
 "cells": [
  {
   "cell_type": "markdown",
   "metadata": {},
   "source": [
    "# Primeros pasos\n",
    "\n",
    "<p>No te preocupes si al principio la palabra desarrollo te intimida. No tienes que aprenderlo todo de golpe y ahora es posible aprender a programar sin ir a la universidad.</p>\n",
    "\n",
    "<img src=\"https://www.pexels.com/es-es/foto/ordenador-portatil-negro-y-gris-546819/\" />\n",
    "\n",
    "\n",
    "<p>Tienes que ser tú quien decida qué aspecto del desarrollo web te interesa más, y una vez lo tengas claro, comenzar aprendiendo un lenguaje de programación. Por ejemplo, si estás interesado en Frontend, puedes empezar estudiando HTML y CSS y, una vez hayas aprendido lo básico, llevar a cabo proyectos donde apliques los conocimientos adquiridos. Al mismo tiempo, puedes aumentar tus conocimientos estudiando nuevos lenguajes de programación como JavaScript, para hacer sitios web interactivos y originales.</p> "
   ]
  },
  {
   "cell_type": "markdown",
   "metadata": {},
   "source": [
    "There is a lot more that you can do with outputs (such as including interactive outputs)\n",
    "with your book. For more information about this, see [the Jupyter Book documentation](https://jupyterbook.org)"
   ]
  }
 ],
 "metadata": {
  "kernelspec": {
   "display_name": "Python 3 (ipykernel)",
   "language": "python",
   "name": "python3"
  },
  "language_info": {
   "codemirror_mode": {
    "name": "ipython",
    "version": 3
   },
   "file_extension": ".py",
   "mimetype": "text/x-python",
   "name": "python",
   "nbconvert_exporter": "python",
   "pygments_lexer": "ipython3",
   "version": "3.10.6"
  },
  "widgets": {
   "application/vnd.jupyter.widget-state+json": {
    "state": {},
    "version_major": 2,
    "version_minor": 0
   }
  }
 },
 "nbformat": 4,
 "nbformat_minor": 4
}